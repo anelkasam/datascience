{
 "cells": [
  {
   "cell_type": "code",
   "execution_count": 1,
   "metadata": {},
   "outputs": [],
   "source": [
    "from pyspark import SparkConf, SparkContext\n",
    "\n",
    "conf = SparkConf().setAppName('sum_of_primes').setMaster('local[*]')\n",
    "spark = SparkContext(conf=conf)"
   ]
  },
  {
   "cell_type": "code",
   "execution_count": 2,
   "metadata": {},
   "outputs": [],
   "source": [
    "data = spark.textFile('../in/prime_nums.text')"
   ]
  },
  {
   "cell_type": "code",
   "execution_count": 5,
   "metadata": {},
   "outputs": [
    {
     "data": {
      "text/plain": [
       "['  2\\t  3\\t  5\\t  7\\t 11\\t 13\\t 17\\t 19\\t 23\\t 29',\n",
       " ' 31\\t 37\\t 41\\t 43\\t 47\\t 53\\t 59\\t 61\\t 67\\t 71',\n",
       " ' 73\\t 79\\t 83\\t 89\\t 97\\t101\\t103\\t107\\t109\\t113',\n",
       " '127\\t131\\t137\\t139\\t149\\t151\\t157\\t163\\t167\\t173',\n",
       " '179\\t181\\t191\\t193\\t197\\t199\\t211\\t223\\t227\\t229',\n",
       " '233\\t239\\t241\\t251\\t257\\t263\\t269\\t271\\t277\\t281',\n",
       " '283\\t293\\t307\\t311\\t313\\t317\\t331\\t337\\t347\\t349',\n",
       " '353\\t359\\t367\\t373\\t379\\t383\\t389\\t397\\t401\\t409',\n",
       " '419\\t421\\t431\\t433\\t439\\t443\\t449\\t457\\t461\\t463',\n",
       " '467\\t479\\t487\\t491\\t499\\t503\\t509\\t521\\t523\\t541']"
      ]
     },
     "execution_count": 5,
     "metadata": {},
     "output_type": "execute_result"
    }
   ],
   "source": [
    "data.take(50)"
   ]
  },
  {
   "cell_type": "code",
   "execution_count": 23,
   "metadata": {},
   "outputs": [],
   "source": [
    "# filter empty strings that can occure\n",
    "numbers = data.flatMap(lambda x: (int(n) for n in x.split('\\t'))).filter(lambda x: x)"
   ]
  },
  {
   "cell_type": "code",
   "execution_count": 24,
   "metadata": {},
   "outputs": [],
   "source": [
    "primeSum = data.flatMap(lambda x: (int(n) for n in x.split('\\t'))).reduce(lambda x, y: x + y)"
   ]
  },
  {
   "cell_type": "code",
   "execution_count": 25,
   "metadata": {},
   "outputs": [
    {
     "data": {
      "text/plain": [
       "24133"
      ]
     },
     "execution_count": 25,
     "metadata": {},
     "output_type": "execute_result"
    }
   ],
   "source": [
    "primeSum"
   ]
  },
  {
   "cell_type": "code",
   "execution_count": null,
   "metadata": {},
   "outputs": [],
   "source": []
  }
 ],
 "metadata": {
  "kernelspec": {
   "display_name": "Python 3",
   "language": "python",
   "name": "python3"
  },
  "language_info": {
   "codemirror_mode": {
    "name": "ipython",
    "version": 3
   },
   "file_extension": ".py",
   "mimetype": "text/x-python",
   "name": "python",
   "nbconvert_exporter": "python",
   "pygments_lexer": "ipython3",
   "version": "3.6.6"
  }
 },
 "nbformat": 4,
 "nbformat_minor": 2
}
