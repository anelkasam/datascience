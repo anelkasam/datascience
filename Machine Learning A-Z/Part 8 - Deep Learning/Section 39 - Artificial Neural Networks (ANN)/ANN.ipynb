{
 "cells": [
  {
   "cell_type": "code",
   "execution_count": 1,
   "metadata": {},
   "outputs": [],
   "source": [
    "import numpy as np\n",
    "import pandas as pd\n",
    "import matplotlib.pyplot as plt"
   ]
  },
  {
   "cell_type": "code",
   "execution_count": 2,
   "metadata": {},
   "outputs": [],
   "source": [
    "data = pd.read_csv('Churn_Modelling.csv')"
   ]
  },
  {
   "cell_type": "code",
   "execution_count": 3,
   "metadata": {},
   "outputs": [
    {
     "data": {
      "text/html": [
       "<div>\n",
       "<style scoped>\n",
       "    .dataframe tbody tr th:only-of-type {\n",
       "        vertical-align: middle;\n",
       "    }\n",
       "\n",
       "    .dataframe tbody tr th {\n",
       "        vertical-align: top;\n",
       "    }\n",
       "\n",
       "    .dataframe thead th {\n",
       "        text-align: right;\n",
       "    }\n",
       "</style>\n",
       "<table border=\"1\" class=\"dataframe\">\n",
       "  <thead>\n",
       "    <tr style=\"text-align: right;\">\n",
       "      <th></th>\n",
       "      <th>RowNumber</th>\n",
       "      <th>CustomerId</th>\n",
       "      <th>Surname</th>\n",
       "      <th>CreditScore</th>\n",
       "      <th>Geography</th>\n",
       "      <th>Gender</th>\n",
       "      <th>Age</th>\n",
       "      <th>Tenure</th>\n",
       "      <th>Balance</th>\n",
       "      <th>NumOfProducts</th>\n",
       "      <th>HasCrCard</th>\n",
       "      <th>IsActiveMember</th>\n",
       "      <th>EstimatedSalary</th>\n",
       "      <th>Exited</th>\n",
       "    </tr>\n",
       "  </thead>\n",
       "  <tbody>\n",
       "    <tr>\n",
       "      <th>0</th>\n",
       "      <td>1</td>\n",
       "      <td>15634602</td>\n",
       "      <td>Hargrave</td>\n",
       "      <td>619</td>\n",
       "      <td>France</td>\n",
       "      <td>Female</td>\n",
       "      <td>42</td>\n",
       "      <td>2</td>\n",
       "      <td>0.00</td>\n",
       "      <td>1</td>\n",
       "      <td>1</td>\n",
       "      <td>1</td>\n",
       "      <td>101348.88</td>\n",
       "      <td>1</td>\n",
       "    </tr>\n",
       "    <tr>\n",
       "      <th>1</th>\n",
       "      <td>2</td>\n",
       "      <td>15647311</td>\n",
       "      <td>Hill</td>\n",
       "      <td>608</td>\n",
       "      <td>Spain</td>\n",
       "      <td>Female</td>\n",
       "      <td>41</td>\n",
       "      <td>1</td>\n",
       "      <td>83807.86</td>\n",
       "      <td>1</td>\n",
       "      <td>0</td>\n",
       "      <td>1</td>\n",
       "      <td>112542.58</td>\n",
       "      <td>0</td>\n",
       "    </tr>\n",
       "    <tr>\n",
       "      <th>2</th>\n",
       "      <td>3</td>\n",
       "      <td>15619304</td>\n",
       "      <td>Onio</td>\n",
       "      <td>502</td>\n",
       "      <td>France</td>\n",
       "      <td>Female</td>\n",
       "      <td>42</td>\n",
       "      <td>8</td>\n",
       "      <td>159660.80</td>\n",
       "      <td>3</td>\n",
       "      <td>1</td>\n",
       "      <td>0</td>\n",
       "      <td>113931.57</td>\n",
       "      <td>1</td>\n",
       "    </tr>\n",
       "    <tr>\n",
       "      <th>3</th>\n",
       "      <td>4</td>\n",
       "      <td>15701354</td>\n",
       "      <td>Boni</td>\n",
       "      <td>699</td>\n",
       "      <td>France</td>\n",
       "      <td>Female</td>\n",
       "      <td>39</td>\n",
       "      <td>1</td>\n",
       "      <td>0.00</td>\n",
       "      <td>2</td>\n",
       "      <td>0</td>\n",
       "      <td>0</td>\n",
       "      <td>93826.63</td>\n",
       "      <td>0</td>\n",
       "    </tr>\n",
       "    <tr>\n",
       "      <th>4</th>\n",
       "      <td>5</td>\n",
       "      <td>15737888</td>\n",
       "      <td>Mitchell</td>\n",
       "      <td>850</td>\n",
       "      <td>Spain</td>\n",
       "      <td>Female</td>\n",
       "      <td>43</td>\n",
       "      <td>2</td>\n",
       "      <td>125510.82</td>\n",
       "      <td>1</td>\n",
       "      <td>1</td>\n",
       "      <td>1</td>\n",
       "      <td>79084.10</td>\n",
       "      <td>0</td>\n",
       "    </tr>\n",
       "  </tbody>\n",
       "</table>\n",
       "</div>"
      ],
      "text/plain": [
       "   RowNumber  CustomerId   Surname  CreditScore Geography  Gender  Age  \\\n",
       "0          1    15634602  Hargrave          619    France  Female   42   \n",
       "1          2    15647311      Hill          608     Spain  Female   41   \n",
       "2          3    15619304      Onio          502    France  Female   42   \n",
       "3          4    15701354      Boni          699    France  Female   39   \n",
       "4          5    15737888  Mitchell          850     Spain  Female   43   \n",
       "\n",
       "   Tenure    Balance  NumOfProducts  HasCrCard  IsActiveMember  \\\n",
       "0       2       0.00              1          1               1   \n",
       "1       1   83807.86              1          0               1   \n",
       "2       8  159660.80              3          1               0   \n",
       "3       1       0.00              2          0               0   \n",
       "4       2  125510.82              1          1               1   \n",
       "\n",
       "   EstimatedSalary  Exited  \n",
       "0        101348.88       1  \n",
       "1        112542.58       0  \n",
       "2        113931.57       1  \n",
       "3         93826.63       0  \n",
       "4         79084.10       0  "
      ]
     },
     "execution_count": 3,
     "metadata": {},
     "output_type": "execute_result"
    }
   ],
   "source": [
    "data.head()"
   ]
  },
  {
   "cell_type": "code",
   "execution_count": 4,
   "metadata": {},
   "outputs": [
    {
     "name": "stdout",
     "output_type": "stream",
     "text": [
      "<class 'pandas.core.frame.DataFrame'>\n",
      "RangeIndex: 10000 entries, 0 to 9999\n",
      "Data columns (total 14 columns):\n",
      "RowNumber          10000 non-null int64\n",
      "CustomerId         10000 non-null int64\n",
      "Surname            10000 non-null object\n",
      "CreditScore        10000 non-null int64\n",
      "Geography          10000 non-null object\n",
      "Gender             10000 non-null object\n",
      "Age                10000 non-null int64\n",
      "Tenure             10000 non-null int64\n",
      "Balance            10000 non-null float64\n",
      "NumOfProducts      10000 non-null int64\n",
      "HasCrCard          10000 non-null int64\n",
      "IsActiveMember     10000 non-null int64\n",
      "EstimatedSalary    10000 non-null float64\n",
      "Exited             10000 non-null int64\n",
      "dtypes: float64(2), int64(9), object(3)\n",
      "memory usage: 1.1+ MB\n"
     ]
    }
   ],
   "source": [
    "data.info()"
   ]
  },
  {
   "cell_type": "code",
   "execution_count": 5,
   "metadata": {},
   "outputs": [],
   "source": [
    "X = data.drop(['RowNumber', 'CustomerId', 'Surname', 'Exited'], axis=1)\n",
    "y = data.Exited"
   ]
  },
  {
   "cell_type": "code",
   "execution_count": 6,
   "metadata": {},
   "outputs": [
    {
     "data": {
      "text/html": [
       "<div>\n",
       "<style scoped>\n",
       "    .dataframe tbody tr th:only-of-type {\n",
       "        vertical-align: middle;\n",
       "    }\n",
       "\n",
       "    .dataframe tbody tr th {\n",
       "        vertical-align: top;\n",
       "    }\n",
       "\n",
       "    .dataframe thead th {\n",
       "        text-align: right;\n",
       "    }\n",
       "</style>\n",
       "<table border=\"1\" class=\"dataframe\">\n",
       "  <thead>\n",
       "    <tr style=\"text-align: right;\">\n",
       "      <th></th>\n",
       "      <th>CreditScore</th>\n",
       "      <th>Geography</th>\n",
       "      <th>Gender</th>\n",
       "      <th>Age</th>\n",
       "      <th>Tenure</th>\n",
       "      <th>Balance</th>\n",
       "      <th>NumOfProducts</th>\n",
       "      <th>HasCrCard</th>\n",
       "      <th>IsActiveMember</th>\n",
       "      <th>EstimatedSalary</th>\n",
       "    </tr>\n",
       "  </thead>\n",
       "  <tbody>\n",
       "    <tr>\n",
       "      <th>0</th>\n",
       "      <td>619</td>\n",
       "      <td>France</td>\n",
       "      <td>Female</td>\n",
       "      <td>42</td>\n",
       "      <td>2</td>\n",
       "      <td>0.00</td>\n",
       "      <td>1</td>\n",
       "      <td>1</td>\n",
       "      <td>1</td>\n",
       "      <td>101348.88</td>\n",
       "    </tr>\n",
       "    <tr>\n",
       "      <th>1</th>\n",
       "      <td>608</td>\n",
       "      <td>Spain</td>\n",
       "      <td>Female</td>\n",
       "      <td>41</td>\n",
       "      <td>1</td>\n",
       "      <td>83807.86</td>\n",
       "      <td>1</td>\n",
       "      <td>0</td>\n",
       "      <td>1</td>\n",
       "      <td>112542.58</td>\n",
       "    </tr>\n",
       "    <tr>\n",
       "      <th>2</th>\n",
       "      <td>502</td>\n",
       "      <td>France</td>\n",
       "      <td>Female</td>\n",
       "      <td>42</td>\n",
       "      <td>8</td>\n",
       "      <td>159660.80</td>\n",
       "      <td>3</td>\n",
       "      <td>1</td>\n",
       "      <td>0</td>\n",
       "      <td>113931.57</td>\n",
       "    </tr>\n",
       "    <tr>\n",
       "      <th>3</th>\n",
       "      <td>699</td>\n",
       "      <td>France</td>\n",
       "      <td>Female</td>\n",
       "      <td>39</td>\n",
       "      <td>1</td>\n",
       "      <td>0.00</td>\n",
       "      <td>2</td>\n",
       "      <td>0</td>\n",
       "      <td>0</td>\n",
       "      <td>93826.63</td>\n",
       "    </tr>\n",
       "    <tr>\n",
       "      <th>4</th>\n",
       "      <td>850</td>\n",
       "      <td>Spain</td>\n",
       "      <td>Female</td>\n",
       "      <td>43</td>\n",
       "      <td>2</td>\n",
       "      <td>125510.82</td>\n",
       "      <td>1</td>\n",
       "      <td>1</td>\n",
       "      <td>1</td>\n",
       "      <td>79084.10</td>\n",
       "    </tr>\n",
       "  </tbody>\n",
       "</table>\n",
       "</div>"
      ],
      "text/plain": [
       "   CreditScore Geography  Gender  Age  Tenure    Balance  NumOfProducts  \\\n",
       "0          619    France  Female   42       2       0.00              1   \n",
       "1          608     Spain  Female   41       1   83807.86              1   \n",
       "2          502    France  Female   42       8  159660.80              3   \n",
       "3          699    France  Female   39       1       0.00              2   \n",
       "4          850     Spain  Female   43       2  125510.82              1   \n",
       "\n",
       "   HasCrCard  IsActiveMember  EstimatedSalary  \n",
       "0          1               1        101348.88  \n",
       "1          0               1        112542.58  \n",
       "2          1               0        113931.57  \n",
       "3          0               0         93826.63  \n",
       "4          1               1         79084.10  "
      ]
     },
     "execution_count": 6,
     "metadata": {},
     "output_type": "execute_result"
    }
   ],
   "source": [
    "X.head()"
   ]
  },
  {
   "cell_type": "markdown",
   "metadata": {},
   "source": [
    "#### Encode categorical features"
   ]
  },
  {
   "cell_type": "code",
   "execution_count": 7,
   "metadata": {},
   "outputs": [
    {
     "name": "stderr",
     "output_type": "stream",
     "text": [
      "/opt/conda/lib/python3.6/site-packages/sklearn/preprocessing/_encoders.py:363: FutureWarning: The handling of integer data will change in version 0.22. Currently, the categories are determined based on the range [0, max(values)], while in the future they will be determined based on the unique values.\n",
      "If you want the future behaviour and silence this warning, you can specify \"categories='auto'\".\n",
      "In case you used a LabelEncoder before this OneHotEncoder to convert the categories to integers, then you can now use the OneHotEncoder directly.\n",
      "  warnings.warn(msg, FutureWarning)\n",
      "/opt/conda/lib/python3.6/site-packages/sklearn/preprocessing/_encoders.py:385: DeprecationWarning: The 'categorical_features' keyword is deprecated in version 0.20 and will be removed in 0.22. You can use the ColumnTransformer instead.\n",
      "  \"use the ColumnTransformer instead.\", DeprecationWarning)\n"
     ]
    }
   ],
   "source": [
    "from sklearn.preprocessing import LabelEncoder, OneHotEncoder\n",
    "geo_encoder = LabelEncoder()\n",
    "gender_encoder = LabelEncoder()\n",
    "X.Geography = geo_encoder.fit_transform(X.Geography)\n",
    "X.Gender = gender_encoder.fit_transform(X.Gender)\n",
    "\n",
    "onehot = OneHotEncoder(categorical_features=[1])\n",
    "X = onehot.fit_transform(X).toarray()"
   ]
  },
  {
   "cell_type": "code",
   "execution_count": 8,
   "metadata": {},
   "outputs": [
    {
     "data": {
      "text/plain": [
       "array([  1.00000000e+00,   0.00000000e+00,   0.00000000e+00,\n",
       "         6.19000000e+02,   0.00000000e+00,   4.20000000e+01,\n",
       "         2.00000000e+00,   0.00000000e+00,   1.00000000e+00,\n",
       "         1.00000000e+00,   1.00000000e+00,   1.01348880e+05])"
      ]
     },
     "execution_count": 8,
     "metadata": {},
     "output_type": "execute_result"
    }
   ],
   "source": [
    "X[0]"
   ]
  },
  {
   "cell_type": "code",
   "execution_count": 9,
   "metadata": {},
   "outputs": [],
   "source": [
    "# Avoid Dummie variable trap\n",
    "X = X[:, 1:]"
   ]
  },
  {
   "cell_type": "code",
   "execution_count": 10,
   "metadata": {},
   "outputs": [],
   "source": [
    "from sklearn.model_selection import train_test_split\n",
    "X_train, X_test, y_train, y_test = train_test_split(X, y, test_size=0.2, random_state=0)"
   ]
  },
  {
   "cell_type": "code",
   "execution_count": 11,
   "metadata": {},
   "outputs": [],
   "source": [
    "# Scale features\n",
    "from sklearn.preprocessing import StandardScaler\n",
    "sc = StandardScaler()\n",
    "X_train = sc.fit_transform(X_train)\n",
    "X_test = sc.transform(X_test)"
   ]
  },
  {
   "cell_type": "markdown",
   "metadata": {},
   "source": [
    "#### Build ANN"
   ]
  },
  {
   "cell_type": "code",
   "execution_count": 12,
   "metadata": {},
   "outputs": [
    {
     "name": "stderr",
     "output_type": "stream",
     "text": [
      "Using TensorFlow backend.\n"
     ]
    }
   ],
   "source": [
    "import keras"
   ]
  },
  {
   "cell_type": "code",
   "execution_count": 13,
   "metadata": {},
   "outputs": [],
   "source": [
    "# For initializing the neuron netword \n",
    "from keras.models import Sequential\n",
    "# For creating layers\n",
    "from keras.layers import Dense"
   ]
  },
  {
   "cell_type": "code",
   "execution_count": 14,
   "metadata": {},
   "outputs": [],
   "source": [
    "# initialize ANN\n",
    "classifier = Sequential()"
   ]
  },
  {
   "cell_type": "code",
   "execution_count": 15,
   "metadata": {},
   "outputs": [],
   "source": [
    "# Adding layers: input layer and first hidden layer. \n",
    "# We will use rectifier activation function for the hidden layers and sigmoid function for the output layer\n",
    "# nodes in the hidden layer = average(input, output)\n",
    "classifier.add(Dense(units=6, kernel_initializer='uniform', activation='relu', input_dim=11))"
   ]
  },
  {
   "cell_type": "code",
   "execution_count": 16,
   "metadata": {},
   "outputs": [],
   "source": [
    "classifier.add(Dense(units=6, kernel_initializer='uniform', activation='relu'))\n",
    "classifier.add(Dense(units=1, kernel_initializer='uniform', activation='sigmoid'))"
   ]
  },
  {
   "cell_type": "code",
   "execution_count": 17,
   "metadata": {},
   "outputs": [],
   "source": [
    "# Compiling the ANN\n",
    "classifier.compile(optimizer='adam', loss='binary_crossentropy', metrics=['accuracy'])"
   ]
  },
  {
   "cell_type": "code",
   "execution_count": 18,
   "metadata": {},
   "outputs": [
    {
     "name": "stdout",
     "output_type": "stream",
     "text": [
      "Epoch 1/100\n",
      "8000/8000 [==============================] - 4s 550us/step - loss: 0.4913 - acc: 0.7960\n",
      "Epoch 2/100\n",
      "8000/8000 [==============================] - 4s 558us/step - loss: 0.4143 - acc: 0.8215\n",
      "Epoch 3/100\n",
      "8000/8000 [==============================] - 4s 528us/step - loss: 0.4029 - acc: 0.8261\n",
      "Epoch 4/100\n",
      "8000/8000 [==============================] - 4s 561us/step - loss: 0.3928 - acc: 0.8284\n",
      "Epoch 5/100\n",
      "8000/8000 [==============================] - 4s 519us/step - loss: 0.3853 - acc: 0.8311\n",
      "Epoch 6/100\n",
      "8000/8000 [==============================] - 4s 550us/step - loss: 0.3802 - acc: 0.8320\n",
      "Epoch 7/100\n",
      "8000/8000 [==============================] - 5s 580us/step - loss: 0.3759 - acc: 0.8329\n",
      "Epoch 8/100\n",
      "8000/8000 [==============================] - 4s 480us/step - loss: 0.3725 - acc: 0.8442\n",
      "Epoch 9/100\n",
      "8000/8000 [==============================] - 4s 453us/step - loss: 0.3692 - acc: 0.8464\n",
      "Epoch 10/100\n",
      "8000/8000 [==============================] - 4s 546us/step - loss: 0.3668 - acc: 0.8499\n",
      "Epoch 11/100\n",
      "8000/8000 [==============================] - 5s 600us/step - loss: 0.3639 - acc: 0.8526\n",
      "Epoch 12/100\n",
      "8000/8000 [==============================] - 5s 596us/step - loss: 0.3622 - acc: 0.8524\n",
      "Epoch 13/100\n",
      "8000/8000 [==============================] - 5s 581us/step - loss: 0.3598 - acc: 0.8529\n",
      "Epoch 14/100\n",
      "8000/8000 [==============================] - 4s 498us/step - loss: 0.3591 - acc: 0.8531\n",
      "Epoch 15/100\n",
      "8000/8000 [==============================] - 5s 571us/step - loss: 0.3574 - acc: 0.8535\n",
      "Epoch 16/100\n",
      "8000/8000 [==============================] - 5s 640us/step - loss: 0.3556 - acc: 0.8566\n",
      "Epoch 17/100\n",
      "8000/8000 [==============================] - 5s 680us/step - loss: 0.3553 - acc: 0.8562\n",
      "Epoch 18/100\n",
      "8000/8000 [==============================] - 6s 720us/step - loss: 0.3542 - acc: 0.8557\n",
      "Epoch 19/100\n",
      "8000/8000 [==============================] - 4s 450us/step - loss: 0.3532 - acc: 0.8582\n",
      "Epoch 20/100\n",
      "8000/8000 [==============================] - 5s 602us/step - loss: 0.3528 - acc: 0.8569\n",
      "Epoch 21/100\n",
      "8000/8000 [==============================] - 4s 487us/step - loss: 0.3526 - acc: 0.8556\n",
      "Epoch 22/100\n",
      "8000/8000 [==============================] - 4s 543us/step - loss: 0.3511 - acc: 0.8590\n",
      "Epoch 23/100\n",
      "8000/8000 [==============================] - 5s 605us/step - loss: 0.3509 - acc: 0.8574\n",
      "Epoch 24/100\n",
      "8000/8000 [==============================] - 6s 700us/step - loss: 0.3505 - acc: 0.8580\n",
      "Epoch 25/100\n",
      "8000/8000 [==============================] - 5s 684us/step - loss: 0.3502 - acc: 0.8567\n",
      "Epoch 26/100\n",
      "8000/8000 [==============================] - 4s 442us/step - loss: 0.3489 - acc: 0.8582\n",
      "Epoch 27/100\n",
      "8000/8000 [==============================] - 4s 464us/step - loss: 0.3499 - acc: 0.8576\n",
      "Epoch 28/100\n",
      "8000/8000 [==============================] - 5s 660us/step - loss: 0.3485 - acc: 0.8581\n",
      "Epoch 29/100\n",
      "8000/8000 [==============================] - 5s 613us/step - loss: 0.3481 - acc: 0.8571\n",
      "Epoch 30/100\n",
      "8000/8000 [==============================] - 3s 398us/step - loss: 0.3486 - acc: 0.8585\n",
      "Epoch 31/100\n",
      "8000/8000 [==============================] - ETA: 0s - loss: 0.3485 - acc: 0.859 - 4s 555us/step - loss: 0.3482 - acc: 0.8595\n",
      "Epoch 32/100\n",
      "8000/8000 [==============================] - 5s 685us/step - loss: 0.3478 - acc: 0.8575\n",
      "Epoch 33/100\n",
      "8000/8000 [==============================] - 5s 646us/step - loss: 0.3467 - acc: 0.8585\n",
      "Epoch 34/100\n",
      "8000/8000 [==============================] - 7s 874us/step - loss: 0.3468 - acc: 0.8579\n",
      "Epoch 35/100\n",
      "8000/8000 [==============================] - 7s 859us/step - loss: 0.3458 - acc: 0.8601\n",
      "Epoch 36/100\n",
      "8000/8000 [==============================] - 5s 595us/step - loss: 0.3460 - acc: 0.8607\n",
      "Epoch 37/100\n",
      "8000/8000 [==============================] - 4s 502us/step - loss: 0.3461 - acc: 0.8596\n",
      "Epoch 38/100\n",
      "8000/8000 [==============================] - 4s 476us/step - loss: 0.3462 - acc: 0.8599\n",
      "Epoch 39/100\n",
      "8000/8000 [==============================] - 4s 535us/step - loss: 0.3454 - acc: 0.8597\n",
      "Epoch 40/100\n",
      "8000/8000 [==============================] - 4s 477us/step - loss: 0.3445 - acc: 0.8597\n",
      "Epoch 41/100\n",
      "8000/8000 [==============================] - 4s 524us/step - loss: 0.3447 - acc: 0.8589\n",
      "Epoch 42/100\n",
      "8000/8000 [==============================] - 5s 600us/step - loss: 0.3448 - acc: 0.8606\n",
      "Epoch 43/100\n",
      "8000/8000 [==============================] - 5s 652us/step - loss: 0.3445 - acc: 0.8609\n",
      "Epoch 44/100\n",
      "8000/8000 [==============================] - 6s 786us/step - loss: 0.3446 - acc: 0.8599\n",
      "Epoch 45/100\n",
      "8000/8000 [==============================] - 5s 656us/step - loss: 0.3448 - acc: 0.8596\n",
      "Epoch 46/100\n",
      "8000/8000 [==============================] - 5s 569us/step - loss: 0.3444 - acc: 0.8600\n",
      "Epoch 47/100\n",
      "8000/8000 [==============================] - 4s 514us/step - loss: 0.3431 - acc: 0.8597\n",
      "Epoch 48/100\n",
      "8000/8000 [==============================] - 4s 482us/step - loss: 0.3438 - acc: 0.8596\n",
      "Epoch 49/100\n",
      "8000/8000 [==============================] - 4s 485us/step - loss: 0.3434 - acc: 0.8591\n",
      "Epoch 50/100\n",
      "8000/8000 [==============================] - 4s 504us/step - loss: 0.3427 - acc: 0.8609 0s - loss: 0\n",
      "Epoch 51/100\n",
      "8000/8000 [==============================] - 4s 447us/step - loss: 0.3447 - acc: 0.8597\n",
      "Epoch 52/100\n",
      "8000/8000 [==============================] - 4s 519us/step - loss: 0.3426 - acc: 0.8589\n",
      "Epoch 53/100\n",
      "8000/8000 [==============================] - 4s 493us/step - loss: 0.3434 - acc: 0.8597\n",
      "Epoch 54/100\n",
      "8000/8000 [==============================] - 4s 487us/step - loss: 0.3436 - acc: 0.8587\n",
      "Epoch 55/100\n",
      "8000/8000 [==============================] - 4s 499us/step - loss: 0.3421 - acc: 0.8614\n",
      "Epoch 56/100\n",
      "8000/8000 [==============================] - 4s 493us/step - loss: 0.3428 - acc: 0.8609\n",
      "Epoch 57/100\n",
      "8000/8000 [==============================] - 4s 504us/step - loss: 0.3425 - acc: 0.8639\n",
      "Epoch 58/100\n",
      "8000/8000 [==============================] - 4s 531us/step - loss: 0.3417 - acc: 0.8609\n",
      "Epoch 59/100\n",
      "8000/8000 [==============================] - 4s 552us/step - loss: 0.3403 - acc: 0.8602\n",
      "Epoch 60/100\n",
      "8000/8000 [==============================] - 4s 515us/step - loss: 0.3408 - acc: 0.8629\n",
      "Epoch 61/100\n",
      "8000/8000 [==============================] - 4s 499us/step - loss: 0.3401 - acc: 0.8627\n",
      "Epoch 62/100\n",
      "8000/8000 [==============================] - 4s 520us/step - loss: 0.3397 - acc: 0.8617\n",
      "Epoch 63/100\n",
      "8000/8000 [==============================] - 4s 541us/step - loss: 0.3406 - acc: 0.8612\n",
      "Epoch 64/100\n",
      "8000/8000 [==============================] - 4s 475us/step - loss: 0.3392 - acc: 0.8615\n",
      "Epoch 65/100\n",
      "8000/8000 [==============================] - 5s 584us/step - loss: 0.3401 - acc: 0.8619\n",
      "Epoch 66/100\n",
      "8000/8000 [==============================] - 4s 450us/step - loss: 0.3390 - acc: 0.8617\n",
      "Epoch 67/100\n",
      "8000/8000 [==============================] - 3s 435us/step - loss: 0.3386 - acc: 0.8629\n",
      "Epoch 68/100\n",
      "8000/8000 [==============================] - 4s 532us/step - loss: 0.3387 - acc: 0.8622\n",
      "Epoch 69/100\n",
      "8000/8000 [==============================] - 5s 593us/step - loss: 0.3386 - acc: 0.8589\n",
      "Epoch 70/100\n",
      "8000/8000 [==============================] - 4s 518us/step - loss: 0.3382 - acc: 0.8630\n",
      "Epoch 71/100\n",
      "8000/8000 [==============================] - 6s 689us/step - loss: 0.3383 - acc: 0.8617\n",
      "Epoch 72/100\n",
      "8000/8000 [==============================] - 5s 633us/step - loss: 0.3387 - acc: 0.8597\n",
      "Epoch 73/100\n",
      "8000/8000 [==============================] - 4s 520us/step - loss: 0.3378 - acc: 0.8617\n",
      "Epoch 74/100\n",
      "8000/8000 [==============================] - 4s 495us/step - loss: 0.3383 - acc: 0.8606\n",
      "Epoch 75/100\n",
      "8000/8000 [==============================] - 4s 528us/step - loss: 0.3382 - acc: 0.8596\n",
      "Epoch 76/100\n",
      "8000/8000 [==============================] - 4s 468us/step - loss: 0.3388 - acc: 0.8607\n",
      "Epoch 77/100\n",
      "8000/8000 [==============================] - 4s 480us/step - loss: 0.3388 - acc: 0.8627\n",
      "Epoch 78/100\n",
      "8000/8000 [==============================] - 4s 473us/step - loss: 0.3381 - acc: 0.8619\n",
      "Epoch 79/100\n",
      "8000/8000 [==============================] - 4s 478us/step - loss: 0.3377 - acc: 0.8635\n",
      "Epoch 80/100\n",
      "8000/8000 [==============================] - 4s 453us/step - loss: 0.3378 - acc: 0.8611\n",
      "Epoch 81/100\n"
     ]
    },
    {
     "name": "stdout",
     "output_type": "stream",
     "text": [
      "8000/8000 [==============================] - 4s 491us/step - loss: 0.3382 - acc: 0.8621\n",
      "Epoch 82/100\n",
      "8000/8000 [==============================] - 4s 532us/step - loss: 0.3382 - acc: 0.8617\n",
      "Epoch 83/100\n",
      "8000/8000 [==============================] - 5s 590us/step - loss: 0.3377 - acc: 0.8631\n",
      "Epoch 84/100\n",
      "8000/8000 [==============================] - 5s 615us/step - loss: 0.3377 - acc: 0.8610\n",
      "Epoch 85/100\n",
      "8000/8000 [==============================] - 4s 478us/step - loss: 0.3383 - acc: 0.8605\n",
      "Epoch 86/100\n",
      "8000/8000 [==============================] - 4s 454us/step - loss: 0.3389 - acc: 0.8594\n",
      "Epoch 87/100\n",
      "8000/8000 [==============================] - 4s 510us/step - loss: 0.3385 - acc: 0.8609\n",
      "Epoch 88/100\n",
      "8000/8000 [==============================] - 5s 581us/step - loss: 0.3370 - acc: 0.8641\n",
      "Epoch 89/100\n",
      "8000/8000 [==============================] - 5s 608us/step - loss: 0.3380 - acc: 0.8616\n",
      "Epoch 90/100\n",
      "8000/8000 [==============================] - 4s 477us/step - loss: 0.3383 - acc: 0.8615\n",
      "Epoch 91/100\n",
      "8000/8000 [==============================] - 4s 516us/step - loss: 0.3378 - acc: 0.8609\n",
      "Epoch 92/100\n",
      "8000/8000 [==============================] - 2s 265us/step - loss: 0.3371 - acc: 0.8626\n",
      "Epoch 93/100\n",
      "8000/8000 [==============================] - 2s 243us/step - loss: 0.3374 - acc: 0.8635\n",
      "Epoch 94/100\n",
      "8000/8000 [==============================] - 2s 215us/step - loss: 0.3369 - acc: 0.8602\n",
      "Epoch 95/100\n",
      "8000/8000 [==============================] - 2s 238us/step - loss: 0.3379 - acc: 0.8610\n",
      "Epoch 96/100\n",
      "8000/8000 [==============================] - 2s 244us/step - loss: 0.3373 - acc: 0.8641\n",
      "Epoch 97/100\n",
      "8000/8000 [==============================] - 2s 228us/step - loss: 0.3368 - acc: 0.8625\n",
      "Epoch 98/100\n",
      "8000/8000 [==============================] - 2s 283us/step - loss: 0.3378 - acc: 0.8626\n",
      "Epoch 99/100\n",
      "8000/8000 [==============================] - 2s 224us/step - loss: 0.3373 - acc: 0.8632\n",
      "Epoch 100/100\n",
      "8000/8000 [==============================] - 2s 273us/step - loss: 0.3372 - acc: 0.8607\n"
     ]
    },
    {
     "data": {
      "text/plain": [
       "<keras.callbacks.History at 0x7fa11b6fcf60>"
      ]
     },
     "execution_count": 18,
     "metadata": {},
     "output_type": "execute_result"
    }
   ],
   "source": [
    "classifier.fit(x=X_train, y=y_train, epochs=100, batch_size=10)"
   ]
  },
  {
   "cell_type": "code",
   "execution_count": 19,
   "metadata": {},
   "outputs": [],
   "source": [
    "y_prob = classifier.predict(X_test)\n",
    "y_pred = (y_prob >= 0.5).astype(int)"
   ]
  },
  {
   "cell_type": "code",
   "execution_count": 20,
   "metadata": {},
   "outputs": [
    {
     "name": "stdout",
     "output_type": "stream",
     "text": [
      "[[1542   53]\n",
      " [ 216  189]]\n"
     ]
    }
   ],
   "source": [
    "from sklearn.metrics import confusion_matrix\n",
    "print(confusion_matrix(y_test, y_pred))"
   ]
  },
  {
   "cell_type": "code",
   "execution_count": 21,
   "metadata": {},
   "outputs": [
    {
     "data": {
      "text/plain": [
       "0.86550000000000005"
      ]
     },
     "execution_count": 21,
     "metadata": {},
     "output_type": "execute_result"
    }
   ],
   "source": [
    "from sklearn.metrics import accuracy_score\n",
    "accuracy_score(y_test, y_pred)"
   ]
  },
  {
   "cell_type": "code",
   "execution_count": null,
   "metadata": {},
   "outputs": [],
   "source": []
  }
 ],
 "metadata": {
  "kernelspec": {
   "display_name": "Python 3",
   "language": "python",
   "name": "python3"
  },
  "language_info": {
   "codemirror_mode": {
    "name": "ipython",
    "version": 3
   },
   "file_extension": ".py",
   "mimetype": "text/x-python",
   "name": "python",
   "nbconvert_exporter": "python",
   "pygments_lexer": "ipython3",
   "version": "3.6.6"
  }
 },
 "nbformat": 4,
 "nbformat_minor": 2
}
