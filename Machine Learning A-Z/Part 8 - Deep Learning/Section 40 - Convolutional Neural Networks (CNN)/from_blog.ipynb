{
 "cells": [
  {
   "cell_type": "code",
   "execution_count": 1,
   "metadata": {},
   "outputs": [
    {
     "name": "stderr",
     "output_type": "stream",
     "text": [
      "Using TensorFlow backend.\n"
     ]
    }
   ],
   "source": [
    "from keras.preprocessing.image import ImageDataGenerator\n",
    "from keras.models import Sequential\n",
    "from keras.layers import Conv2D, MaxPooling2D\n",
    "from keras.layers import Activation, Dropout, Flatten, Dense\n",
    "from keras import backend as K"
   ]
  },
  {
   "cell_type": "code",
   "execution_count": 2,
   "metadata": {},
   "outputs": [],
   "source": [
    "# dimensions of our images.\n",
    "img_width, img_height = 150, 150\n",
    "\n",
    "train_data_dir = 'dataset/training_set/'\n",
    "validation_data_dir = 'dataset/test_set/'\n",
    "nb_train_samples = 2000\n",
    "nb_validation_samples = 800\n",
    "epochs = 50\n",
    "batch_size = 16"
   ]
  },
  {
   "cell_type": "code",
   "execution_count": 3,
   "metadata": {},
   "outputs": [],
   "source": [
    "if K.image_data_format() == 'channels_first':\n",
    "    input_shape = (3, img_width, img_height)\n",
    "else:\n",
    "    input_shape = (img_width, img_height, 3)"
   ]
  },
  {
   "cell_type": "code",
   "execution_count": 4,
   "metadata": {},
   "outputs": [],
   "source": [
    "model = Sequential()\n",
    "model.add(Conv2D(32, (3, 3), input_shape=input_shape))\n",
    "model.add(Activation('relu'))\n",
    "model.add(MaxPooling2D(pool_size=(2, 2)))\n",
    "\n",
    "model.add(Conv2D(32, (3, 3)))\n",
    "model.add(Activation('relu'))\n",
    "model.add(MaxPooling2D(pool_size=(2, 2)))\n",
    "\n",
    "model.add(Conv2D(64, (3, 3)))\n",
    "model.add(Activation('relu'))\n",
    "model.add(MaxPooling2D(pool_size=(2, 2)))"
   ]
  },
  {
   "cell_type": "code",
   "execution_count": 5,
   "metadata": {},
   "outputs": [],
   "source": [
    "model.add(Flatten())\n",
    "model.add(Dense(64, activation='relu'))\n",
    "model.add(Dropout(0.5))\n",
    "model.add(Dense(1, activation='sigmoid'))\n",
    "\n",
    "model.compile(loss='binary_crossentropy',\n",
    "              optimizer='adam',\n",
    "              metrics=['accuracy'])"
   ]
  },
  {
   "cell_type": "code",
   "execution_count": 6,
   "metadata": {},
   "outputs": [
    {
     "name": "stdout",
     "output_type": "stream",
     "text": [
      "Found 8000 images belonging to 2 classes.\n",
      "Found 2000 images belonging to 2 classes.\n",
      "Epoch 1/50\n",
      "125/125 [==============================] - 88s 703ms/step - loss: 0.6899 - acc: 0.5320 - val_loss: 0.6870 - val_acc: 0.5587\n",
      "Epoch 2/50\n",
      "125/125 [==============================] - 83s 661ms/step - loss: 0.6914 - acc: 0.5375 - val_loss: 0.6863 - val_acc: 0.6100\n",
      "Epoch 3/50\n",
      "125/125 [==============================] - 77s 617ms/step - loss: 0.6890 - acc: 0.5420 - val_loss: 0.6694 - val_acc: 0.6088\n",
      "Epoch 4/50\n",
      "125/125 [==============================] - 86s 692ms/step - loss: 0.6846 - acc: 0.5490 - val_loss: 0.6720 - val_acc: 0.5863\n",
      "Epoch 5/50\n",
      "125/125 [==============================] - 89s 708ms/step - loss: 0.6737 - acc: 0.5995 - val_loss: 0.6470 - val_acc: 0.6375\n",
      "Epoch 6/50\n",
      "125/125 [==============================] - 84s 674ms/step - loss: 0.6392 - acc: 0.6485 - val_loss: 0.6166 - val_acc: 0.6300\n",
      "Epoch 7/50\n",
      "125/125 [==============================] - 83s 662ms/step - loss: 0.6412 - acc: 0.6445 - val_loss: 0.6228 - val_acc: 0.6913\n",
      "Epoch 8/50\n",
      "125/125 [==============================] - 85s 677ms/step - loss: 0.6371 - acc: 0.6400 - val_loss: 0.5983 - val_acc: 0.6950\n",
      "Epoch 9/50\n",
      "125/125 [==============================] - 85s 679ms/step - loss: 0.6090 - acc: 0.6705 - val_loss: 0.5822 - val_acc: 0.7037\n",
      "Epoch 10/50\n",
      "125/125 [==============================] - 86s 685ms/step - loss: 0.6047 - acc: 0.6760 - val_loss: 0.5801 - val_acc: 0.6937\n",
      "Epoch 11/50\n",
      "125/125 [==============================] - 86s 688ms/step - loss: 0.5797 - acc: 0.6970 - val_loss: 0.7334 - val_acc: 0.6238\n",
      "Epoch 12/50\n",
      "125/125 [==============================] - 85s 677ms/step - loss: 0.5959 - acc: 0.6805 - val_loss: 0.5721 - val_acc: 0.7113\n",
      "Epoch 13/50\n",
      "125/125 [==============================] - 84s 673ms/step - loss: 0.5811 - acc: 0.6865 - val_loss: 0.6137 - val_acc: 0.6700\n",
      "Epoch 14/50\n",
      "125/125 [==============================] - 84s 668ms/step - loss: 0.5613 - acc: 0.7140 - val_loss: 0.5132 - val_acc: 0.7638\n",
      "Epoch 15/50\n",
      "125/125 [==============================] - 83s 661ms/step - loss: 0.5385 - acc: 0.7385 - val_loss: 0.5775 - val_acc: 0.7163\n",
      "Epoch 16/50\n",
      "125/125 [==============================] - 83s 667ms/step - loss: 0.5582 - acc: 0.7185 - val_loss: 0.5332 - val_acc: 0.7638\n",
      "Epoch 17/50\n",
      "125/125 [==============================] - 87s 700ms/step - loss: 0.5273 - acc: 0.7445 - val_loss: 0.5344 - val_acc: 0.7262\n",
      "Epoch 18/50\n",
      "125/125 [==============================] - 83s 668ms/step - loss: 0.5223 - acc: 0.7275 - val_loss: 0.5527 - val_acc: 0.7300\n",
      "Epoch 19/50\n",
      "125/125 [==============================] - 85s 682ms/step - loss: 0.5355 - acc: 0.7340 - val_loss: 0.5711 - val_acc: 0.6900\n",
      "Epoch 20/50\n",
      "125/125 [==============================] - 85s 682ms/step - loss: 0.5343 - acc: 0.7505 - val_loss: 0.5529 - val_acc: 0.7262\n",
      "Epoch 21/50\n",
      "125/125 [==============================] - 83s 666ms/step - loss: 0.5181 - acc: 0.7535 - val_loss: 0.5004 - val_acc: 0.7600\n",
      "Epoch 22/50\n",
      "125/125 [==============================] - 83s 661ms/step - loss: 0.5200 - acc: 0.7530 - val_loss: 0.4712 - val_acc: 0.7812\n",
      "Epoch 23/50\n",
      "125/125 [==============================] - 86s 688ms/step - loss: 0.5044 - acc: 0.7525 - val_loss: 0.5226 - val_acc: 0.7425\n",
      "Epoch 24/50\n",
      "125/125 [==============================] - 84s 673ms/step - loss: 0.5017 - acc: 0.7625 - val_loss: 0.4868 - val_acc: 0.7812\n",
      "Epoch 25/50\n",
      "125/125 [==============================] - 84s 670ms/step - loss: 0.4986 - acc: 0.7585 - val_loss: 0.4792 - val_acc: 0.7650\n",
      "Epoch 26/50\n",
      "125/125 [==============================] - 84s 670ms/step - loss: 0.4825 - acc: 0.7695 - val_loss: 0.4549 - val_acc: 0.7925\n",
      "Epoch 27/50\n",
      "125/125 [==============================] - 86s 686ms/step - loss: 0.4832 - acc: 0.7750 - val_loss: 0.4942 - val_acc: 0.7662\n",
      "Epoch 28/50\n",
      "125/125 [==============================] - 87s 694ms/step - loss: 0.4954 - acc: 0.7635 - val_loss: 0.4794 - val_acc: 0.7775\n",
      "Epoch 29/50\n",
      "125/125 [==============================] - 89s 716ms/step - loss: 0.4815 - acc: 0.7630 - val_loss: 0.4620 - val_acc: 0.7950\n",
      "Epoch 30/50\n",
      "125/125 [==============================] - 77s 620ms/step - loss: 0.4784 - acc: 0.7835 - val_loss: 0.4721 - val_acc: 0.7975\n",
      "Epoch 31/50\n",
      "125/125 [==============================] - 77s 614ms/step - loss: 0.4661 - acc: 0.7880 - val_loss: 0.5140 - val_acc: 0.7550\n",
      "Epoch 32/50\n",
      "125/125 [==============================] - 79s 636ms/step - loss: 0.4415 - acc: 0.7865 - val_loss: 0.4652 - val_acc: 0.7850\n",
      "Epoch 33/50\n",
      "125/125 [==============================] - 77s 618ms/step - loss: 0.4527 - acc: 0.7890 - val_loss: 0.5067 - val_acc: 0.7812\n",
      "Epoch 34/50\n",
      "125/125 [==============================] - 78s 623ms/step - loss: 0.4543 - acc: 0.7840 - val_loss: 0.4414 - val_acc: 0.8050\n",
      "Epoch 35/50\n",
      "125/125 [==============================] - 79s 630ms/step - loss: 0.4697 - acc: 0.7725 - val_loss: 0.4655 - val_acc: 0.7762\n",
      "Epoch 36/50\n",
      "125/125 [==============================] - 83s 662ms/step - loss: 0.4466 - acc: 0.7940 - val_loss: 0.4726 - val_acc: 0.8000\n",
      "Epoch 37/50\n",
      "125/125 [==============================] - 113s 905ms/step - loss: 0.4563 - acc: 0.7745 - val_loss: 0.4382 - val_acc: 0.8200\n",
      "Epoch 38/50\n",
      "125/125 [==============================] - 88s 708ms/step - loss: 0.4283 - acc: 0.8075 - val_loss: 0.4435 - val_acc: 0.7875\n",
      "Epoch 39/50\n",
      "125/125 [==============================] - 90s 716ms/step - loss: 0.4186 - acc: 0.8085 - val_loss: 0.5295 - val_acc: 0.7525\n",
      "Epoch 40/50\n",
      "125/125 [==============================] - 82s 657ms/step - loss: 0.4487 - acc: 0.7940 - val_loss: 0.4357 - val_acc: 0.8113\n",
      "Epoch 41/50\n",
      "125/125 [==============================] - 85s 679ms/step - loss: 0.4263 - acc: 0.8100 - val_loss: 0.4736 - val_acc: 0.7925\n",
      "Epoch 42/50\n",
      "125/125 [==============================] - 86s 689ms/step - loss: 0.4546 - acc: 0.7910 - val_loss: 0.4341 - val_acc: 0.8237\n",
      "Epoch 43/50\n",
      "125/125 [==============================] - 83s 664ms/step - loss: 0.4115 - acc: 0.8110 - val_loss: 0.3906 - val_acc: 0.8163\n",
      "Epoch 44/50\n",
      "125/125 [==============================] - 85s 682ms/step - loss: 0.4304 - acc: 0.8030 - val_loss: 0.4230 - val_acc: 0.8037\n",
      "Epoch 45/50\n",
      "125/125 [==============================] - 84s 669ms/step - loss: 0.4075 - acc: 0.8175 - val_loss: 0.4282 - val_acc: 0.8113\n",
      "Epoch 46/50\n",
      "125/125 [==============================] - 82s 657ms/step - loss: 0.4187 - acc: 0.8030 - val_loss: 0.4087 - val_acc: 0.8287\n",
      "Epoch 47/50\n",
      "125/125 [==============================] - 87s 696ms/step - loss: 0.4177 - acc: 0.8165 - val_loss: 0.4242 - val_acc: 0.8113\n",
      "Epoch 48/50\n",
      "125/125 [==============================] - 88s 702ms/step - loss: 0.4129 - acc: 0.8175 - val_loss: 0.4381 - val_acc: 0.7963\n",
      "Epoch 49/50\n",
      "125/125 [==============================] - 82s 658ms/step - loss: 0.3964 - acc: 0.8195 - val_loss: 0.4753 - val_acc: 0.8025\n",
      "Epoch 50/50\n",
      "125/125 [==============================] - 86s 692ms/step - loss: 0.4043 - acc: 0.8170 - val_loss: 0.4391 - val_acc: 0.8100\n"
     ]
    },
    {
     "data": {
      "text/plain": [
       "<keras.callbacks.History at 0x7fe227ad7eb8>"
      ]
     },
     "execution_count": 6,
     "metadata": {},
     "output_type": "execute_result"
    }
   ],
   "source": [
    "# this is the augmentation configuration we will use for training\n",
    "train_datagen = ImageDataGenerator(\n",
    "    rescale=1. / 255,\n",
    "    shear_range=0.2,\n",
    "    zoom_range=0.2,\n",
    "    horizontal_flip=True)\n",
    "\n",
    "# this is the augmentation configuration we will use for testing:\n",
    "# only rescaling\n",
    "test_datagen = ImageDataGenerator(rescale=1. / 255)\n",
    "\n",
    "train_generator = train_datagen.flow_from_directory(\n",
    "    train_data_dir,\n",
    "    target_size=(img_width, img_height),\n",
    "    batch_size=batch_size,\n",
    "    class_mode='binary')\n",
    "\n",
    "validation_generator = test_datagen.flow_from_directory(\n",
    "    validation_data_dir,\n",
    "    target_size=(img_width, img_height),\n",
    "    batch_size=batch_size,\n",
    "    class_mode='binary')\n",
    "\n",
    "model.fit_generator(\n",
    "    train_generator,\n",
    "    steps_per_epoch=nb_train_samples // batch_size,\n",
    "    epochs=epochs,\n",
    "    validation_data=validation_generator,\n",
    "    validation_steps=nb_validation_samples // batch_size)"
   ]
  },
  {
   "cell_type": "code",
   "execution_count": 55,
   "metadata": {},
   "outputs": [
    {
     "name": "stdout",
     "output_type": "stream",
     "text": [
      "[[0]] [[ 0.]]\n"
     ]
    }
   ],
   "source": [
    "import numpy as np\n",
    "from keras.preprocessing import image\n",
    "test_image = image.load_img('dataset/test_set/cats/cat.4532.jpg', target_size=(150, 150))\n",
    "test_image = image.img_to_array(test_image)\n",
    "test_image = np.expand_dims(test_image, axis=0)\n",
    "# result = model.predict(test_image)\n",
    "preds = model.predict_classes(test_image)\n",
    "probs = model.predict_proba(test_image)\n",
    "print(preds, probs)\n"
   ]
  },
  {
   "cell_type": "code",
   "execution_count": 56,
   "metadata": {},
   "outputs": [
    {
     "name": "stdout",
     "output_type": "stream",
     "text": [
      "cat\n"
     ]
    }
   ],
   "source": [
    "if preds[0][0] > 0.5:\n",
    "    pred = 'dog'\n",
    "else:\n",
    "    pred = 'cat'\n",
    "print(pred)"
   ]
  },
  {
   "cell_type": "code",
   "execution_count": 57,
   "metadata": {},
   "outputs": [],
   "source": [
    "model.save_weights('first_try.h5')"
   ]
  },
  {
   "cell_type": "code",
   "execution_count": null,
   "metadata": {},
   "outputs": [],
   "source": []
  }
 ],
 "metadata": {
  "kernelspec": {
   "display_name": "Python 3",
   "language": "python",
   "name": "python3"
  },
  "language_info": {
   "codemirror_mode": {
    "name": "ipython",
    "version": 3
   },
   "file_extension": ".py",
   "mimetype": "text/x-python",
   "name": "python",
   "nbconvert_exporter": "python",
   "pygments_lexer": "ipython3",
   "version": "3.6.6"
  }
 },
 "nbformat": 4,
 "nbformat_minor": 2
}
