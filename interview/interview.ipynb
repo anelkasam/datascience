{
 "cells": [
  {
   "cell_type": "markdown",
   "metadata": {},
   "source": [
    "#### Task:\n",
    "По нашей статистике, в каждой третьей вакансии работодатели не указывают предлагаемую заработную плату. Поэтому, когда соискатель ищет вакансии только с указанной заработной платой, то теряет часть предложений, релевантных не только по описанию, но и по компенсации.\n",
    "\n",
    " В первой задаче нужно предсказать интервал заработной платы на основе данных о вакансии. Была подготовлена обучающая выборка из вакансий с указанными зарплатами (с верхней и нижней границей или с одной из них). Задача – максимально точно предсказать возможную предлагаемую заработную плату, которую мог бы поставить работодатель."
   ]
  },
  {
   "cell_type": "code",
   "execution_count": null,
   "metadata": {},
   "outputs": [],
   "source": [
    "import numpy as np\n",
    "import pandas as pd\n",
    "import matplotlib.pyplot as plt\n",
    "import seaborn as sns\n",
    "%matplotlib inline\n",
    "\n",
    "import warnings\n",
    "def ignore_warn(*args, **kwargs):\n",
    "    pass\n",
    "warnings.warn = ignore_warn"
   ]
  },
  {
   "cell_type": "code",
   "execution_count": 2,
   "metadata": {},
   "outputs": [],
   "source": [
    "from pyspark.sql import functions as F\n",
    "from pyspark.sql import types as T"
   ]
  },
  {
   "cell_type": "code",
   "execution_count": 3,
   "metadata": {},
   "outputs": [],
   "source": [
    "from pyspark.sql import SparkSession\n",
    "spark = SparkSession.builder.getOrCreate()"
   ]
  },
  {
   "cell_type": "code",
   "execution_count": 4,
   "metadata": {},
   "outputs": [],
   "source": [
    "train = spark.read.json('train.txt')\n",
    "test = spark.read.json('test.txt')\n",
    "nosalary = spark.read.json('nosalary.txt')"
   ]
  },
  {
   "cell_type": "markdown",
   "metadata": {},
   "source": [
    "**Separate task on two different task: min salary and max salary**"
   ]
  },
  {
   "cell_type": "code",
   "execution_count": 27,
   "metadata": {
    "scrolled": true
   },
   "outputs": [
    {
     "name": "stdout",
     "output_type": "stream",
     "text": [
      "root\n",
      " |-- accept_handicapped: boolean (nullable = true)\n",
      " |-- address: struct (nullable = true)\n",
      " |    |-- building: string (nullable = true)\n",
      " |    |-- city: string (nullable = true)\n",
      " |    |-- description: string (nullable = true)\n",
      " |    |-- lat: double (nullable = true)\n",
      " |    |-- lng: double (nullable = true)\n",
      " |    |-- metro: struct (nullable = true)\n",
      " |    |    |-- lat: double (nullable = true)\n",
      " |    |    |-- line_id: string (nullable = true)\n",
      " |    |    |-- line_name: string (nullable = true)\n",
      " |    |    |-- lng: double (nullable = true)\n",
      " |    |    |-- station_id: string (nullable = true)\n",
      " |    |    |-- station_name: string (nullable = true)\n",
      " |    |-- metro_stations: array (nullable = true)\n",
      " |    |    |-- element: struct (containsNull = true)\n",
      " |    |    |    |-- lat: double (nullable = true)\n",
      " |    |    |    |-- line_id: string (nullable = true)\n",
      " |    |    |    |-- line_name: string (nullable = true)\n",
      " |    |    |    |-- lng: double (nullable = true)\n",
      " |    |    |    |-- station_id: string (nullable = true)\n",
      " |    |    |    |-- station_name: string (nullable = true)\n",
      " |    |-- raw: string (nullable = true)\n",
      " |    |-- street: string (nullable = true)\n",
      " |-- allow_messages: boolean (nullable = true)\n",
      " |-- archived: boolean (nullable = true)\n",
      " |-- area: struct (nullable = true)\n",
      " |    |-- id: string (nullable = true)\n",
      " |    |-- name: string (nullable = true)\n",
      " |    |-- url: string (nullable = true)\n",
      " |-- billing_type: struct (nullable = true)\n",
      " |    |-- id: string (nullable = true)\n",
      " |    |-- name: string (nullable = true)\n",
      " |-- branded_description: string (nullable = true)\n",
      " |-- code: string (nullable = true)\n",
      " |-- contacts: struct (nullable = true)\n",
      " |    |-- email: string (nullable = true)\n",
      " |    |-- name: string (nullable = true)\n",
      " |    |-- phones: array (nullable = true)\n",
      " |    |    |-- element: struct (containsNull = true)\n",
      " |    |    |    |-- city: string (nullable = true)\n",
      " |    |    |    |-- comment: string (nullable = true)\n",
      " |    |    |    |-- country: string (nullable = true)\n",
      " |    |    |    |-- number: string (nullable = true)\n",
      " |-- created_at: string (nullable = true)\n",
      " |-- department: struct (nullable = true)\n",
      " |    |-- id: string (nullable = true)\n",
      " |    |-- name: string (nullable = true)\n",
      " |-- description: string (nullable = true)\n",
      " |-- employer: struct (nullable = true)\n",
      " |    |-- alternate_url: string (nullable = true)\n",
      " |    |-- id: string (nullable = true)\n",
      " |    |-- logo_urls: struct (nullable = true)\n",
      " |    |    |-- 240: string (nullable = true)\n",
      " |    |    |-- 90: string (nullable = true)\n",
      " |    |    |-- original: string (nullable = true)\n",
      " |    |-- name: string (nullable = true)\n",
      " |    |-- url: string (nullable = true)\n",
      " |    |-- vacancies_url: string (nullable = true)\n",
      " |-- employment: struct (nullable = true)\n",
      " |    |-- id: string (nullable = true)\n",
      " |    |-- name: string (nullable = true)\n",
      " |-- experience: struct (nullable = true)\n",
      " |    |-- id: string (nullable = true)\n",
      " |    |-- name: string (nullable = true)\n",
      " |-- hidden: boolean (nullable = true)\n",
      " |-- id: string (nullable = true)\n",
      " |-- key_skills: array (nullable = true)\n",
      " |    |-- element: struct (containsNull = true)\n",
      " |    |    |-- name: string (nullable = true)\n",
      " |-- name: string (nullable = true)\n",
      " |-- negotiations_url: string (nullable = true)\n",
      " |-- premium: boolean (nullable = true)\n",
      " |-- published_at: string (nullable = true)\n",
      " |-- relations: array (nullable = true)\n",
      " |    |-- element: string (containsNull = true)\n",
      " |-- response_letter_required: boolean (nullable = true)\n",
      " |-- response_url: string (nullable = true)\n",
      " |-- salary: struct (nullable = true)\n",
      " |    |-- currency: string (nullable = true)\n",
      " |    |-- from: long (nullable = true)\n",
      " |    |-- to: long (nullable = true)\n",
      " |-- schedule: struct (nullable = true)\n",
      " |    |-- id: string (nullable = true)\n",
      " |    |-- name: string (nullable = true)\n",
      " |-- site: struct (nullable = true)\n",
      " |    |-- id: string (nullable = true)\n",
      " |    |-- name: string (nullable = true)\n",
      " |-- specializations: array (nullable = true)\n",
      " |    |-- element: struct (containsNull = true)\n",
      " |    |    |-- id: string (nullable = true)\n",
      " |    |    |-- name: string (nullable = true)\n",
      " |    |    |-- profarea_id: string (nullable = true)\n",
      " |    |    |-- profarea_name: string (nullable = true)\n",
      " |-- suitable_resumes_url: string (nullable = true)\n",
      " |-- test: struct (nullable = true)\n",
      " |    |-- required: boolean (nullable = true)\n",
      " |-- type: struct (nullable = true)\n",
      " |    |-- id: string (nullable = true)\n",
      " |    |-- name: string (nullable = true)\n",
      "\n"
     ]
    }
   ],
   "source": [
    "train.printSchema()"
   ]
  },
  {
   "cell_type": "code",
   "execution_count": 6,
   "metadata": {},
   "outputs": [
    {
     "name": "stdout",
     "output_type": "stream",
     "text": [
      "+--------+------+\n",
      "|currency| count|\n",
      "+--------+------+\n",
      "|     RUR|621955|\n",
      "|     KZT| 25032|\n",
      "|     BYR| 24380|\n",
      "|     UAH| 14345|\n",
      "|     USD|  9126|\n",
      "|     EUR|   977|\n",
      "|     AZN|   822|\n",
      "|     UZS|    37|\n",
      "|     KGS|    18|\n",
      "|     GEL|     6|\n",
      "+--------+------+\n",
      "\n"
     ]
    }
   ],
   "source": [
    "(\n",
    "    train\n",
    "    .groupby('salary.currency')\n",
    "    .count()\n",
    "    .orderBy('count', ascending=False)\n",
    ").show()"
   ]
  },
  {
   "cell_type": "code",
   "execution_count": 26,
   "metadata": {},
   "outputs": [
    {
     "name": "stderr",
     "output_type": "stream",
     "text": [
      "No handles with labels found to put in legend.\n"
     ]
    },
    {
     "data": {
      "image/png": "[encoded data removed]",
      "text/plain": [
       "<Figure size 648x432 with 6 Axes>"
      ]
     },
     "metadata": {
      "needs_background": "light"
     },
     "output_type": "display_data"
    }
   ],
   "source": [
    "df = (\n",
    "    train\n",
    "    .filter('salary.from is not null')\n",
    "    .filter('area.name == \"Киев\"')\n",
    "    .select('salary.currency', 'salary.from')\n",
    "    .toPandas()\n",
    ")\n",
    "\n",
    "g = sns.FacetGrid(df, col=\"currency\", palette=\"Set1\", col_wrap=3)\n",
    "g.map(plt.hist, 'from', bins=30, range=(0, 10000), ec=\"k\")\n",
    "\n",
    "g.axes[-1].legend()\n",
    "plt.show()"
   ]
  },
  {
   "cell_type": "code",
   "execution_count": 28,
   "metadata": {},
   "outputs": [
    {
     "name": "stdout",
     "output_type": "stream",
     "text": [
      "+---------------+------+\n",
      "|           name| count|\n",
      "+---------------+------+\n",
      "|         Москва|136275|\n",
      "|Санкт-Петербург| 52318|\n",
      "|          Минск| 19306|\n",
      "+---------------+------+\n",
      "only showing top 3 rows\n",
      "\n"
     ]
    }
   ],
   "source": [
    "train.groupby('area.name').count().orderBy('count', ascending=False).show(3)"
   ]
  },
  {
   "cell_type": "code",
   "execution_count": 40,
   "metadata": {},
   "outputs": [
    {
     "name": "stdout",
     "output_type": "stream",
     "text": [
      "+----------------+------+\n",
      "|            name| count|\n",
      "+----------------+------+\n",
      "|     Полный день|412139|\n",
      "|  Вахтовый метод| 23313|\n",
      "|Удаленная работа| 18684|\n",
      "|  Сменный график| 87118|\n",
      "|   Гибкий график| 34776|\n",
      "+----------------+------+\n",
      "\n"
     ]
    }
   ],
   "source": [
    "(\n",
    "    data\n",
    "    .groupby('schedule.name')\n",
    "    .count()\n",
    ").show()"
   ]
  },
  {
   "cell_type": "code",
   "execution_count": 41,
   "metadata": {},
   "outputs": [
    {
     "data": {
      "text/plain": [
       "Row(accept_handicapped=False, address=None, allow_messages=True, archived=False, area=Row(id='55', name='Курган', url='https://api.hh.ru/areas/55'), billing_type=Row(id='free', name='Бесплатная'), branded_description=None, code=None, contacts=None, created_at='2015-08-13T13:24:16+0300', department=None, description='<p><strong>Требования:</strong></p> <ul> <li>Требуются АКТИВНЫЕ сотрудники с большим желанием зарабатывать, нацеленные на высокий результат и повышение результативности своей работы</li> <li>Дисциплинированность, исполнительность, стрессоустойчивость, уверенный пользователь ПК, грамотная речь, умение убеждать и настаивать на своём требовании</li> <li>Опыт работы в банковской сфере, коллекторской деятельности и службе судебных приставов приветствуется</li> </ul> <p> </p> <p><strong>Обязанности:</strong></p> <ul> <li>Работа по розыску неплательщиков, скрывающихся от погашения задолженности</li> <li>Проведение переговоров с должниками, клиентами компаний заключение с ними графиков погашения задолженности, работа с должниками на досудебной стадий</li> <li>Взаимодействие со службой судебных приставов, выезда с судебными приставами на адреса проживания должников</li> </ul> <p> </p> <p><strong>Условия:</strong></p> <ul> <li>Постоянная, полный день, работа на территории работодателя</li> <li>Разъездной и офисный характер работы</li> <li>Оформление, отпуск, больничный и пр. по ТК</li> <li>Корпоративное обучение и тренинги</li> <li>Возможность профессионального и карьерного роста в крупной развивающейся успешной организаций.</li> </ul>', employer=Row(alternate_url='http://hh.ru/employer/1753372', id='1753372', logo_urls=Row(240='http://hh.ru/employer-logo/1548115.jpeg', 90='http://hh.ru/employer-logo/1548114.jpeg', original='http://hh.ru/employer-logo-original/276396.jpg'), name='Траст', url='https://api.hh.ru/employers/1753372', vacancies_url='https://api.hh.ru/vacancies?employer_id=1753372'), employment=Row(id='full', name='Полная занятость'), experience=Row(id='noExperience', name='Нет опыта'), hidden=False, id='9652195', key_skills=[], name='Инспектор по розыску', negotiations_url=None, premium=False, published_at='2015-08-13T13:24:16+0300', relations=[], response_letter_required=False, response_url=None, salary=Row(currency='RUR', from=10, to=35000), schedule=Row(id='fullDay', name='Полный день'), site=Row(id='hh', name='hh.ru'), specializations=[Row(id='5.579', name='Работа с проблемными заемщиками', profarea_id='5', profarea_name='Банки, инвестиции, лизинг')], suitable_resumes_url=None, test=None, type=Row(id='open', name='Открытая'))"
      ]
     },
     "execution_count": 41,
     "metadata": {},
     "output_type": "execute_result"
    }
   ],
   "source": [
    "data.filter('salary.from == 10').first()"
   ]
  },
  {
   "cell_type": "code",
   "execution_count": 31,
   "metadata": {},
   "outputs": [
    {
     "name": "stdout",
     "output_type": "stream",
     "text": [
      "+-----------------------------------------------------+------+----------+----------+\n",
      "|profarea_name                                        |#     |min_salary|max_salary|\n",
      "+-----------------------------------------------------+------+----------+----------+\n",
      "|Продажи                                              |855525|1         |150000000 |\n",
      "|Начало карьеры, студенты                             |174704|1         |21000000  |\n",
      "|Информационные технологии, интернет, телеком         |141491|1         |100000000 |\n",
      "|Банки, инвестиции, лизинг                            |119526|1         |20000000  |\n",
      "|Административный персонал                            |113014|1         |25000000  |\n",
      "|Маркетинг, реклама, PR                               |111624|1         |50000000  |\n",
      "|Бухгалтерия, управленческий учет, финансы предприятия|108752|8         |35000000  |\n",
      "|Строительство, недвижимость                          |105627|1         |98000000  |\n",
      "|Транспорт, логистика                                 |101173|1         |60000000  |\n",
      "|Производство                                         |89610 |1         |23000000  |\n",
      "|Рабочий персонал                                     |76151 |1         |25000000  |\n",
      "|Туризм, гостиницы, рестораны                         |68649 |6         |20000000  |\n",
      "|Медицина, фармацевтика                               |49362 |1         |27000000  |\n",
      "|Страхование                                          |47870 |25        |10000000  |\n",
      "|Управление персоналом, тренинги                      |37007 |10        |99999999  |\n",
      "|Юристы                                               |35327 |25        |20000000  |\n",
      "|Автомобильный бизнес                                 |21474 |1         |99999999  |\n",
      "|Наука, образование                                   |17399 |1         |18000000  |\n",
      "|Консультирование                                     |17275 |1         |30000000  |\n",
      "|Высший менеджмент                                    |15860 |10        |35000000  |\n",
      "+-----------------------------------------------------+------+----------+----------+\n",
      "only showing top 20 rows\n",
      "\n"
     ]
    }
   ],
   "source": [
    "(\n",
    "    train\n",
    "    .withColumn('profarea', F.explode('specializations'))\n",
    "    .groupby('profarea.profarea_name')\n",
    "    .agg(\n",
    "        F.count('*').alias('#'),\n",
    "        F.min('salary.from').alias('min_salary'),\n",
    "        F.max('salary.from').alias('max_salary'),\n",
    "    )\n",
    "    .orderBy('#', ascending=False)\n",
    ").show(20, False)"
   ]
  },
  {
   "cell_type": "code",
   "execution_count": 47,
   "metadata": {},
   "outputs": [
    {
     "data": {
      "image/png": "[encoded data removed]",
      "text/plain": [
       "<Figure size 432x288 with 1 Axes>"
      ]
     },
     "metadata": {
      "needs_background": "light"
     },
     "output_type": "display_data"
    }
   ],
   "source": []
  },
  {
   "cell_type": "code",
   "execution_count": 49,
   "metadata": {},
   "outputs": [
    {
     "data": {
      "text/plain": [
       "42"
      ]
     },
     "execution_count": 49,
     "metadata": {},
     "output_type": "execute_result"
    }
   ],
   "source": [
    "(\n",
    "    data\n",
    "    .withColumn('profarea', F.explode('specializations'))\n",
    "    .filter('profarea.profarea_name == \"Юристы\"')\n",
    "    .filter('salary.from > 200000')\n",
    ").count()"
   ]
  },
  {
   "cell_type": "code",
   "execution_count": null,
   "metadata": {},
   "outputs": [],
   "source": []
  },
  {
   "cell_type": "code",
   "execution_count": null,
   "metadata": {},
   "outputs": [],
   "source": []
  },
  {
   "cell_type": "code",
   "execution_count": null,
   "metadata": {},
   "outputs": [],
   "source": []
  },
  {
   "cell_type": "code",
   "execution_count": null,
   "metadata": {},
   "outputs": [],
   "source": []
  },
  {
   "cell_type": "code",
   "execution_count": null,
   "metadata": {},
   "outputs": [],
   "source": []
  },
  {
   "cell_type": "code",
   "execution_count": null,
   "metadata": {},
   "outputs": [],
   "source": []
  },
  {
   "cell_type": "code",
   "execution_count": null,
   "metadata": {},
   "outputs": [],
   "source": [
    "from_data = (\n",
    "    train.filter('salary.from is not null')\n",
    "    .select(\n",
    "        'salary.currency',\n",
    "        F.col('area.id').alias('city_id'),\n",
    "    )\n",
    ")\n",
    "to_data = (\n",
    "    train.filter('salary.to is not null')\n",
    "    .select(\n",
    "        'salary.currency',\n",
    "        F.col('area.id').alias('city_id'),\n",
    "    )\n",
    ")"
   ]
  },
  {
   "cell_type": "code",
   "execution_count": null,
   "metadata": {},
   "outputs": [],
   "source": [
    "features_columns = ['currency', 'city']"
   ]
  },
  {
   "cell_type": "markdown",
   "metadata": {},
   "source": [
    "### Train and evaluate"
   ]
  },
  {
   "cell_type": "code",
   "execution_count": null,
   "metadata": {},
   "outputs": [],
   "source": [
    "# Split on train test sets\n",
    "columns = \n",
    "dataset = data[columns]\n",
    "X = dataset.drop('Id', axis=1)\n",
    "y = data.\n",
    "\n",
    "from sklearn.model_selection import train_test_split\n",
    "X_train, X_test, y_train, y_test = train_test_split(X, y, test_size=0.33)"
   ]
  },
  {
   "cell_type": "code",
   "execution_count": null,
   "metadata": {},
   "outputs": [],
   "source": [
    "svr = SVR(degree=5)\n",
    "svr.fit(X_train, y_train)\n",
    "svr_pred = svr.predict(X_test)"
   ]
  },
  {
   "cell_type": "code",
   "execution_count": null,
   "metadata": {},
   "outputs": [],
   "source": [
    "from sklearn.metrics import mean_squared_error, mean_absolute_error\n",
    "print('Mean Squared error:', np.sqrt(mean_squared_error(y_test, pred)))\n",
    "print('Mean Absolute error:', mean_absolute_error(y_test, pred))"
   ]
  }
 ],
 "metadata": {
  "kernelspec": {
   "display_name": "Python 3",
   "language": "python",
   "name": "python3"
  },
  "language_info": {
   "codemirror_mode": {
    "name": "ipython",
    "version": 3
   },
   "file_extension": ".py",
   "mimetype": "text/x-python",
   "name": "python",
   "nbconvert_exporter": "python",
   "pygments_lexer": "ipython3",
   "version": "3.6.6"
  }
 },
 "nbformat": 4,
 "nbformat_minor": 1
}
